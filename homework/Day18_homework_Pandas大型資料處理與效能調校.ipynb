{
 "cells": [
  {
   "cell_type": "markdown",
   "id": "784b3630",
   "metadata": {},
   "source": [
    "1. 在速度較慢的時候，可以先從哪邊開始檢查？"
   ]
  },
  {
   "cell_type": "markdown",
   "id": "0597e2e3",
   "metadata": {},
   "source": [
    "Ans: 先檢查程式碼中資料處理或運算部分，是否有自定義函式可改用內建函式 ? 運算是否使用向量運算 ? 再檢查讀取資料時是否可用速度較快的 pkl 檔案 "
   ]
  },
  {
   "cell_type": "markdown",
   "id": "214232b3",
   "metadata": {},
   "source": [
    "2. 資料過⼤時應採取什麼⽅式讓記憶體占⽤量下降？"
   ]
  },
  {
   "cell_type": "markdown",
   "id": "fe64431a",
   "metadata": {},
   "source": [
    "Ans: 考慮採用資料型態降級，可節省記憶體用量"
   ]
  },
  {
   "cell_type": "code",
   "execution_count": null,
   "id": "ee7b9b72",
   "metadata": {},
   "outputs": [],
   "source": []
  }
 ],
 "metadata": {
  "kernelspec": {
   "display_name": "Python 3 (ipykernel)",
   "language": "python",
   "name": "python3"
  },
  "language_info": {
   "codemirror_mode": {
    "name": "ipython",
    "version": 3
   },
   "file_extension": ".py",
   "mimetype": "text/x-python",
   "name": "python",
   "nbconvert_exporter": "python",
   "pygments_lexer": "ipython3",
   "version": "3.9.7"
  }
 },
 "nbformat": 4,
 "nbformat_minor": 5
}
